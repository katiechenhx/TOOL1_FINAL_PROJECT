{
 "cells": [
  {
   "cell_type": "markdown",
   "metadata": {},
   "source": [
    "# Hw 1. Please complete the following activity and submit the notebook in LMS (learning management system). This homework is due by the end of week 3, to allow time for selecting your team and topic of the final project.\n"
   ]
  },
  {
   "cell_type": "markdown",
   "metadata": {},
   "source": [
    "# Q1(.5 point) Why we need Python virtual environments?\n",
    "\n",
    "Please write no more than 3 lines."
   ]
  },
  {
   "cell_type": "markdown",
   "metadata": {},
   "source": [
    "A python virtual environment can be used to ensure you have the same exact library versions a shared project was built with.  Any changes with a virtual environment will also not affect the base python package installed on your personal machine, so you can mess around in a virtual environment and keep the main python installation stable."
   ]
  },
  {
   "cell_type": "markdown",
   "metadata": {},
   "source": [
    "# Q2(.5 point) Sort the following list in place alphabetically using last three characters."
   ]
  },
  {
   "cell_type": "code",
   "execution_count": 1,
   "metadata": {},
   "outputs": [
    {
     "name": "stdout",
     "output_type": "stream",
     "text": [
      "['Africa', 'America', 'Antarctica', 'Australia', 'Europe', 'Asia']\n"
     ]
    }
   ],
   "source": [
    "continentsL = ['Europe', 'Africa', 'America', 'Antarctica', 'Asia', 'Australia']\n",
    "# Write you code in the next line\n",
    "continentsS = sorted(continentsL, key=lambda continent: continent[-3:])\n",
    "print(continentsS)"
   ]
  },
  {
   "cell_type": "markdown",
   "metadata": {},
   "source": [
    "# Q3(1= .5+.5 points) We want to compare random integer generation time in numpy and random module of \"plain\" python. Generate 100 random integers in the range 1 to 10 including 1 and 10. Write jupyter notebook line magic to compare execution time of random integer generation in the following cells (look for the cells having the comment *write line magic*).  Line magic must execute the given statement  10 times in a loop and repeat the process 5 times.\n",
    "\n",
    " \n",
    " Hints:\n",
    "\n",
    " - Note that numpy.random has randint function and random has random.randint function.\n",
    " - Press shift+tab after typing above function or search their documentation to understand their parameters.\n",
    " - use ? on magic command timeit for further documentation. see how to use **-n and -r options**.\n",
    " "
   ]
  },
  {
   "cell_type": "code",
   "execution_count": 2,
   "metadata": {},
   "outputs": [],
   "source": [
    "import random\n",
    "num_sample = 100\n",
    "low = 1\n",
    "high = 10"
   ]
  },
  {
   "cell_type": "code",
   "execution_count": 3,
   "metadata": {},
   "outputs": [
    {
     "name": "stdout",
     "output_type": "stream",
     "text": [
      "98 µs ± 9.46 µs per loop (mean ± std. dev. of 5 runs, 10 loops each)\n"
     ]
    }
   ],
   "source": [
    "# write line magic for random module in the next line\n",
    "%timeit -n10 -r5 for _ in range(num_sample): random.randint(low, high)"
   ]
  },
  {
   "cell_type": "code",
   "execution_count": 4,
   "metadata": {},
   "outputs": [],
   "source": [
    "import numpy as np"
   ]
  },
  {
   "cell_type": "code",
   "execution_count": 5,
   "metadata": {},
   "outputs": [
    {
     "name": "stdout",
     "output_type": "stream",
     "text": [
      "283 µs ± 61.1 µs per loop (mean ± std. dev. of 5 runs, 10 loops each)\n"
     ]
    }
   ],
   "source": [
    "# write line magic for numpy randint in the next line\n",
    "%timeit -n10 -r5 for _ in range(num_sample): np.random.randint(low, high + 1)"
   ]
  },
  {
   "cell_type": "markdown",
   "metadata": {},
   "source": [
    "<font size = \"6\"> To start working toward final project, complete the following questions by writing markdown in the same cell in next line. Each question in worth .5 point. </font>\n",
    "\n",
    "In tools 1 course, __*we are concerned with data cleaning, feature engineering and exploratory analysis. Make sure your selected final project allows for lots of data cleaning, transformation and engineering opportunity.*__ \n",
    "\n",
    "Go over project and presentation rubric in course webpage to better understand the requirement for the project.  We will evaluate the answer to see if it meets the final project requirements.\n",
    "\n",
    "\n",
    "\n",
    "<font color = \"red\" size = \"5\">If you are working in a team, we'll read only one team member notebook for the following questions. Please make sure you have identical answers for following questions.  </font>\n",
    "\n",
    "<font color =\"red\"> To edit a markdown cell you need to double click in the cell</font>"
   ]
  },
  {
   "cell_type": "markdown",
   "metadata": {},
   "source": [
    "# Q4 List your team members in bullet format. (No more than 3 members).\n",
    "Note that\n",
    "\n",
    "- **Each member** has to present a portion of the project in the final presentation.\n",
    "\n",
    "-  Final report must list the contribution of each member. \n"
   ]
  },
  {
   "cell_type": "markdown",
   "metadata": {},
   "source": [
    "- Katie Chen\n",
    "- Zachary Francis"
   ]
  },
  {
   "cell_type": "markdown",
   "metadata": {},
   "source": [
    "# Q5  What  problem you are trying to solve?"
   ]
  },
  {
   "cell_type": "markdown",
   "metadata": {},
   "source": [
    "Denver's Open Data Catalogue keeps an open record of traffic accidents from the past few years in their [Open Data Catalogue](https://www.denvergov.org/opendata/dataset/city-and-county-of-denver-traffic-accidents).  This data set can be used to possibly answer several inquiries:\n",
    "- Are traffic accidents in Denver on an upward or downward trend?\n",
    "- Are serious injuries or fatalites changing in any significant way?\n",
    "- Are fatalaties or injuries more likely when a certain type of vehicle is at fault? Is the struck vehicle?\n",
    "\n",
    "Other questions may arrise in exploratory data analysis.  This data set is only for traffic accidents in Denver.  It may be combined or compared against similar data sets for other major cities to characterize vehicle safetly in Denver against similar metropolitan areas."
   ]
  },
  {
   "cell_type": "markdown",
   "metadata": {},
   "source": [
    "# Q6 Describe the attributes of examples in the dataset. If you are planning to collect the data (webscrapping, web API etc.), list the timeline to finish the data collection."
   ]
  },
  {
   "cell_type": "markdown",
   "metadata": {},
   "source": [
    "The data set can be accessed by downloading a CSV or calling against the REST API.  Ultimately it is a large file of comma separated values, with 48 columnns.  Not all the columns will be of use - there is especially a lot of location/spatial data that will probably not be prudent to the goals of this data analysis.  The CSV file has been downloaded and is included in the git repository of this notebook.  To make comparisons with traffic data from other cities, similar data sets will need to downloaded (or to save on reposity space - access through a web api via a `curl` call).  Comparing this data set against [Denver Traffic Counts](https://www.denvergov.org/opendata/dataset/city-and-county-of-denver-traffic-counts) might also be useful to normalize the data against traffic density.  "
   ]
  },
  {
   "cell_type": "code",
   "execution_count": 6,
   "metadata": {},
   "outputs": [
    {
     "name": "stdout",
     "output_type": "stream",
     "text": [
      "  % Total    % Received % Xferd  Average Speed   Time    Time     Time  Current\n",
      "                                 Dload  Upload   Total   Spent    Left  Speed\n",
      "100  122M  100  122M    0     0   451k      0  0:04:37  0:04:37 --:--:--  221k      0  0:11:49  0:00:06  0:11:43  198k  0   386k      0  0:05:23  0:00:19  0:05:04  699k 371k      0  0:05:36  0:00:22  0:05:14  355k 0   465k      0  0:04:28  0:00:57  0:03:31  269k  462k      0  0:04:30  0:01:19  0:03:11  507k    0  0:04:36  0:01:25  0:03:11  293k 0:04:34  0:01:47  0:02:47  457k     0  0:04:35  0:02:02  0:02:33  437k0  0:04:42  0:02:26  0:02:16  275k  0   438k      0  0:04:45  0:02:31  0:02:14  309k:04:46  0:02:34  0:02:12  382kk      0  0:04:44  0:02:35  0:02:09  492k 443k      0  0:04:41  0:03:00  0:01:41  365kk      0  0:04:44  0:03:20  0:01:24  261k  448k      0  0:04:39  0:03:24  0:01:15  795k      0  0:04:33  0:03:53  0:00:40  458k  0   455k      0  0:04:34  0:04:31  0:00:03  464k\n",
      "     1\tshape\n",
      "     2\tobject_id\n",
      "     3\tincident_id\n",
      "     4\toffense_id\n",
      "     5\toffense_code\n",
      "     6\toffense_code_extension\n",
      "     7\ttop_traffic_accident_offense\n",
      "     8\tfirst_occurrence_date\n",
      "     9\tlast_occurrence_date\n",
      "    10\treported_date\n",
      "    11\tincident_address\n",
      "    12\tgeo_x\n",
      "    13\tgeo_y\n",
      "    14\tgeo_lon\n",
      "    15\tgeo_lat\n",
      "    16\tdistrict_id\n",
      "    17\tprecinct_id\n",
      "    18\tneighborhood_id\n",
      "    19\tbicycle_ind\n",
      "    20\tpedestrian_ind\n",
      "    21\tHARMFUL_EVENT_SEQ_1\n",
      "    22\tHARMFUL_EVENT_SEQ_2\n",
      "    23\tHARMFUL_EVENT_SEQ_MOST\n",
      "    24\troad_location\n",
      "    25\tROAD_DESCRIPTION\n",
      "    26\tROAD_CONTOUR\n",
      "    27\tROAD_CONDITION\n",
      "    28\tLIGHT_CONDITION\n",
      "    29\tTU1_VEHICLE_TYPE\n",
      "    30\tTU1_TRAVEL_DIRECTION\n",
      "    31\tTU1_VEHICLE_MOVEMENT\n",
      "    32\tTU1_DRIVER_ACTION\n",
      "    33\tTU1_DRIVER_HUMANCONTRIBFACTOR\n",
      "    34\tTU1_PEDESTRIAN_ACTION\n",
      "    35\tTU2_VEHICLE_TYPE\n",
      "    36\tTU2_TRAVEL_DIRECTION\n",
      "    37\tTU2_VEHICLE_MOVEMENT\n",
      "    38\tTU2_DRIVER_ACTION\n",
      "    39\tTU2_DRIVER_HUMANCONTRIBFACTOR\n",
      "    40\tTU2_PEDESTRIAN_ACTION\n",
      "    41\tSERIOUSLY_INJURED\n",
      "    42\tFATALITIES\n",
      "    43\tFATALITY_MODE_1\n",
      "    44\tFATALITY_MODE_2\n",
      "    45\tSERIOUSLY_INJURED_MODE_1\n",
      "    46\tSERIOUSLY_INJURED_MODE_2\n",
      "    47\tPOINT_X\n",
      "    48\tPOINT_Y\n"
     ]
    }
   ],
   "source": [
    "# Takes 2+ minutes to download when the curl is executed\n",
    "!curl -o traffic_accidents.csv https://www.denvergov.org/media/gis/DataCatalog/traffic_accidents/csv/traffic_accidents.csv\n",
    "!head -n1 traffic_accidents.csv | tr ',' '\\n' | nl"
   ]
  },
  {
   "cell_type": "markdown",
   "metadata": {},
   "source": [
    "# Q7 Give example of records (sample points). Explain why this is a noisy data set (highlight  portion of record attributes you think are noisy)."
   ]
  },
  {
   "cell_type": "markdown",
   "metadata": {},
   "source": [
    "Some columns of interest will be the date, geospatial data if a an assessment is to be made on what driving locations or the most dangerous in Denver, the road description, the vehicle types, fatalities, and injuries.  Many of the records show signs of being hand entered, and there are cases of missing data."
   ]
  },
  {
   "cell_type": "code",
   "execution_count": 7,
   "metadata": {},
   "outputs": [
    {
     "name": "stdout",
     "output_type": "stream",
     "text": [
      "151027 TRAF - ACCIDENT               \r\n",
      "64844 TRAF - ACCIDENT - HIT & RUN   \r\n",
      "6247 TRAF - ACCIDENT - DUI/DUID    \r\n",
      "3416 TRAF - ACCIDENT - SBI         \r\n",
      "2165 TRAF - ACCIDENT - POLICE      \r\n",
      " 606 TRAF - ACCIDENT - FATAL       \r\n",
      "   1 top_traffic_accident_offense\r\n"
     ]
    }
   ],
   "source": [
    "# Traffic accident offense\n",
    "!cat traffic_accidents.csv | cut -d',' -f7 | sort | uniq -c | sort -nr | head"
   ]
  },
  {
   "cell_type": "code",
   "execution_count": 8,
   "metadata": {},
   "outputs": [
    {
     "name": "stdout",
     "output_type": "stream",
     "text": [
      "96848 PASSENGER CAR/VAN\r\n",
      "48526 SUV\r\n",
      "21640 PICKUP TRUCK/UTILITY VAN\r\n",
      "14704 HIT AND RUN UNKNOWN\r\n",
      "11077 Passenger Car/Passenger Van\r\n"
     ]
    }
   ],
   "source": [
    "# Top 5 Vehicle types - passenger car and van is duplicated because of different cases\n",
    "!cat traffic_accidents.csv | cut -d',' -f29 | sort | uniq -c | sort -nr | head -n5"
   ]
  },
  {
   "cell_type": "code",
   "execution_count": 9,
   "metadata": {},
   "outputs": [
    {
     "name": "stdout",
     "output_type": "stream",
     "text": [
      "96848 PASSENGER CAR/VAN\r\n",
      "48526 SUV\r\n",
      "24998 PICKUP TRUCK/UTILITY VAN\r\n",
      "14704 HIT AND RUN UNKNOWN\r\n",
      "11077 PASSENGER CAR/PASSENGER VAN\r\n"
     ]
    }
   ],
   "source": [
    "# Converting case did not help, because the entries are slightly different\n",
    "# Is there a distinction beween van and passenger van?\n",
    "!cat traffic_accidents.csv | cut -d',' -f29 | tr [a-z] [A-Z] | sort | uniq -c | sort -nr | head -n5"
   ]
  },
  {
   "cell_type": "code",
   "execution_count": 10,
   "metadata": {},
   "outputs": [
    {
     "name": "stdout",
     "output_type": "stream",
     "text": [
      "47520 CARELESS DRIVING\r\n",
      "33414 FOLLOWED TOO CLOSELY\r\n",
      "22304 FAILED TO YIELD ROW\r\n",
      "22237 OTHER\r\n",
      "16882 LANE VIOLATION\r\n"
     ]
    }
   ],
   "source": [
    "# Actions of the driver at fault - how to deal with other if this column is used?\n",
    "!cat traffic_accidents.csv | cut -d',' -f32 | tr [a-z] [A-Z] | sort | uniq -c | sort -nr | head -n5"
   ]
  },
  {
   "cell_type": "markdown",
   "metadata": {},
   "source": [
    "# Q8 What kind of  feature engineering opportunity you see.\n",
    "\n",
    "We'll cover feature engineering but here are some examples to get an idea of feature engineering.\n",
    "- Do you need to extract a number, year, or a word in column (attribute of a record).\n",
    "    + Perhaps extracting Miss, Mr., Dr. is more important than actual name?\n",
    "    + Maybe year or time is embbedded in the text desciption and it is important for analysis. \n",
    "- If a column has numerical values do you see a potential for using these values or a transformation of these values like square, log etc?"
   ]
  },
  {
   "cell_type": "markdown",
   "metadata": {},
   "source": [
    "Dates will need to be converted to datetime objects in order to do a proper time series analysis, or easily aggregate by month or year."
   ]
  },
  {
   "cell_type": "code",
   "execution_count": 11,
   "metadata": {},
   "outputs": [
    {
     "name": "stdout",
     "output_type": "stream",
     "text": [
      "first_occurrence_date,last_occurrence_date,reported_date\r\n",
      "2020-01-06 14:00:00,2020-01-06 14:00:00,2020-01-07 05:46:00\r\n",
      "2020-04-23 20:44:00,2020-04-23 20:44:00,2020-04-23 22:35:00\r\n",
      "2020-01-21 12:40:00.000001,2020-01-21 12:40:00.000001,2020-01-21 12:40:00.000001\r\n",
      "2020-01-14 08:35:00,2020-01-14 08:35:00,2020-01-14 08:35:00\r\n",
      "2020-01-18 17:30:00,2020-01-18 17:30:00,2020-01-18 17:30:00\r\n",
      "2020-06-30 08:06:00,2020-06-30 08:06:00,2020-06-30 08:06:00\r\n",
      "2020-02-08 20:30:00,2020-02-08 20:30:00,2020-02-12 13:01:00\r\n",
      "2020-05-06 11:46:00,2020-05-06 11:46:00,2020-05-06 11:46:00\r\n",
      "2020-02-24 10:30:00,2020-02-24 10:30:00,2020-02-24 10:30:00\r\n"
     ]
    }
   ],
   "source": [
    "!head traffic_accidents.csv | cut -d',' -f8-10"
   ]
  },
  {
   "cell_type": "markdown",
   "metadata": {},
   "source": [
    "The first few columns contain special ids that don't have any human meaning and will have to be decoded for them to mean anything useful"
   ]
  },
  {
   "cell_type": "code",
   "execution_count": 12,
   "metadata": {},
   "outputs": [
    {
     "name": "stdout",
     "output_type": "stream",
     "text": [
      "shape,object_id,incident_id,offense_id,offense_code,offense_code_extension\r\n",
      "<geoprocessing describe geometry object object at 0x036D5200>,6765,202012333,20201233354010,5401,0\r\n",
      "<geoprocessing describe geometry object object at 0x036DC120>,6766,2020247273,202024727354010,5401,0\r\n",
      "<geoprocessing describe geometry object object at 0x036DC120>,6767,202046084,20204608454410,5441,0\r\n",
      "<geoprocessing describe geometry object object at 0x036E2D00>,6768,202029570,20202957054410,5441,0\r\n",
      "<geoprocessing describe geometry object object at 0x036D5200>,6769,202040402,20204040254410,5441,0\r\n",
      "<geoprocessing describe geometry object object at 0x036DCC60>,6770,2020397087,202039708754410,5441,0\r\n",
      "<geoprocessing describe geometry object object at 0x036DCC60>,6771,202093434,20209343454410,5441,0\r\n",
      "<geoprocessing describe geometry object object at 0x036E2220>,6772,2020277702,202027770254410,5441,0\r\n",
      "<geoprocessing describe geometry object object at 0x036D53A0>,6773,2020118955,202011895554410,5441,0\r\n"
     ]
    }
   ],
   "source": [
    "!head traffic_accidents.csv | cut -d',' -f1-6"
   ]
  }
 ],
 "metadata": {
  "kernelspec": {
   "display_name": "Python 3 (ipykernel)",
   "language": "python",
   "name": "python3"
  },
  "language_info": {
   "codemirror_mode": {
    "name": "ipython",
    "version": 3
   },
   "file_extension": ".py",
   "mimetype": "text/x-python",
   "name": "python",
   "nbconvert_exporter": "python",
   "pygments_lexer": "ipython3",
   "version": "3.11.2"
  },
  "toc": {
   "base_numbering": 1,
   "nav_menu": {},
   "number_sections": false,
   "sideBar": true,
   "skip_h1_title": false,
   "title_cell": "Table of Contents",
   "title_sidebar": "Contents",
   "toc_cell": false,
   "toc_position": {},
   "toc_section_display": true,
   "toc_window_display": false
  },
  "varInspector": {
   "cols": {
    "lenName": 16,
    "lenType": 16,
    "lenVar": 40
   },
   "kernels_config": {
    "python": {
     "delete_cmd_postfix": "",
     "delete_cmd_prefix": "del ",
     "library": "var_list.py",
     "varRefreshCmd": "print(var_dic_list())"
    },
    "r": {
     "delete_cmd_postfix": ") ",
     "delete_cmd_prefix": "rm(",
     "library": "var_list.r",
     "varRefreshCmd": "cat(var_dic_list()) "
    }
   },
   "types_to_exclude": [
    "module",
    "function",
    "builtin_function_or_method",
    "instance",
    "_Feature"
   ],
   "window_display": false
  }
 },
 "nbformat": 4,
 "nbformat_minor": 2
}
